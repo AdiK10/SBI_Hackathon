{
 "cells": [
  {
   "cell_type": "code",
   "execution_count": null,
   "id": "1a2e5bc2",
   "metadata": {},
   "outputs": [
    {
     "name": "stdout",
     "output_type": "stream",
     "text": [
      "Collecting instaloader\n",
      "  Using cached instaloader-4.14.2-py3-none-any.whl.metadata (6.7 kB)\n",
      "Requirement already satisfied: python-dotenv in c:\\python312\\lib\\site-packages (1.1.1)\n",
      "Collecting google-generativeai\n",
      "  Using cached google_generativeai-0.8.5-py3-none-any.whl.metadata (3.9 kB)\n",
      "Requirement already satisfied: requests>=2.25 in c:\\python312\\lib\\site-packages (from instaloader) (2.31.0)\n",
      "Collecting google-ai-generativelanguage==0.6.15 (from google-generativeai)\n",
      "  Using cached google_ai_generativelanguage-0.6.15-py3-none-any.whl.metadata (5.7 kB)\n",
      "Collecting google-api-core (from google-generativeai)\n",
      "  Using cached google_api_core-2.25.1-py3-none-any.whl.metadata (3.0 kB)\n",
      "Collecting google-api-python-client (from google-generativeai)\n",
      "  Using cached google_api_python_client-2.178.0-py3-none-any.whl.metadata (7.0 kB)\n",
      "Collecting google-auth>=2.15.0 (from google-generativeai)\n",
      "  Using cached google_auth-2.40.3-py2.py3-none-any.whl.metadata (6.2 kB)\n",
      "Requirement already satisfied: protobuf in c:\\python312\\lib\\site-packages (from google-generativeai) (6.31.1)\n",
      "Collecting pydantic (from google-generativeai)\n",
      "  Using cached pydantic-2.11.7-py3-none-any.whl.metadata (67 kB)\n",
      "Requirement already satisfied: tqdm in c:\\python312\\lib\\site-packages (from google-generativeai) (4.66.5)\n",
      "Requirement already satisfied: typing-extensions in c:\\python312\\lib\\site-packages (from google-generativeai) (4.14.1)\n",
      "Collecting proto-plus<2.0.0dev,>=1.22.3 (from google-ai-generativelanguage==0.6.15->google-generativeai)\n",
      "  Using cached proto_plus-1.26.1-py3-none-any.whl.metadata (2.2 kB)\n",
      "Collecting protobuf (from google-generativeai)\n",
      "  Using cached protobuf-5.29.5-cp310-abi3-win_amd64.whl.metadata (592 bytes)\n",
      "Collecting googleapis-common-protos<2.0.0,>=1.56.2 (from google-api-core->google-generativeai)\n",
      "  Using cached googleapis_common_protos-1.70.0-py3-none-any.whl.metadata (9.3 kB)\n",
      "Collecting cachetools<6.0,>=2.0.0 (from google-auth>=2.15.0->google-generativeai)\n",
      "  Using cached cachetools-5.5.2-py3-none-any.whl.metadata (5.4 kB)\n",
      "Collecting pyasn1-modules>=0.2.1 (from google-auth>=2.15.0->google-generativeai)\n",
      "  Using cached pyasn1_modules-0.4.2-py3-none-any.whl.metadata (3.5 kB)\n",
      "Requirement already satisfied: rsa<5,>=3.1.4 in c:\\python312\\lib\\site-packages (from google-auth>=2.15.0->google-generativeai) (4.9.1)\n",
      "Requirement already satisfied: charset-normalizer<4,>=2 in c:\\python312\\lib\\site-packages (from requests>=2.25->instaloader) (3.3.2)\n",
      "Requirement already satisfied: idna<4,>=2.5 in c:\\python312\\lib\\site-packages (from requests>=2.25->instaloader) (3.7)\n",
      "Requirement already satisfied: urllib3<3,>=1.21.1 in c:\\python312\\lib\\site-packages (from requests>=2.25->instaloader) (2.5.0)\n",
      "Requirement already satisfied: certifi>=2017.4.17 in c:\\python312\\lib\\site-packages (from requests>=2.25->instaloader) (2025.7.14)\n",
      "Collecting httplib2<1.0.0,>=0.19.0 (from google-api-python-client->google-generativeai)\n",
      "  Using cached httplib2-0.22.0-py3-none-any.whl.metadata (2.6 kB)\n",
      "Collecting google-auth-httplib2<1.0.0,>=0.2.0 (from google-api-python-client->google-generativeai)\n",
      "  Using cached google_auth_httplib2-0.2.0-py2.py3-none-any.whl.metadata (2.2 kB)\n",
      "Requirement already satisfied: uritemplate<5,>=3.0.1 in c:\\python312\\lib\\site-packages (from google-api-python-client->google-generativeai) (4.2.0)\n",
      "Collecting annotated-types>=0.6.0 (from pydantic->google-generativeai)\n",
      "  Using cached annotated_types-0.7.0-py3-none-any.whl.metadata (15 kB)\n",
      "Requirement already satisfied: pydantic-core==2.33.2 in c:\\python312\\lib\\site-packages (from pydantic->google-generativeai) (2.33.2)\n",
      "Requirement already satisfied: typing-inspection>=0.4.0 in c:\\python312\\lib\\site-packages (from pydantic->google-generativeai) (0.4.1)\n",
      "Requirement already satisfied: colorama in c:\\users\\fugah\\appdata\\roaming\\python\\python312\\site-packages (from tqdm->google-generativeai) (0.4.6)\n",
      "Collecting grpcio<2.0.0,>=1.33.2 (from google-api-core[grpc]!=2.0.*,!=2.1.*,!=2.10.*,!=2.2.*,!=2.3.*,!=2.4.*,!=2.5.*,!=2.6.*,!=2.7.*,!=2.8.*,!=2.9.*,<3.0.0dev,>=1.34.1->google-ai-generativelanguage==0.6.15->google-generativeai)\n",
      "  Using cached grpcio-1.74.0-cp312-cp312-win_amd64.whl.metadata (4.0 kB)\n",
      "Collecting grpcio-status<2.0.0,>=1.33.2 (from google-api-core[grpc]!=2.0.*,!=2.1.*,!=2.10.*,!=2.2.*,!=2.3.*,!=2.4.*,!=2.5.*,!=2.6.*,!=2.7.*,!=2.8.*,!=2.9.*,<3.0.0dev,>=1.34.1->google-ai-generativelanguage==0.6.15->google-generativeai)\n",
      "  Using cached grpcio_status-1.74.0-py3-none-any.whl.metadata (1.1 kB)\n",
      "Requirement already satisfied: pyparsing!=3.0.0,!=3.0.1,!=3.0.2,!=3.0.3,<4,>=2.4.2 in c:\\python312\\lib\\site-packages (from httplib2<1.0.0,>=0.19.0->google-api-python-client->google-generativeai) (3.2.3)\n",
      "Requirement already satisfied: pyasn1<0.7.0,>=0.6.1 in c:\\python312\\lib\\site-packages (from pyasn1-modules>=0.2.1->google-auth>=2.15.0->google-generativeai) (0.6.1)\n",
      "INFO: pip is looking at multiple versions of grpcio-status to determine which version is compatible with other requirements. This could take a while.\n",
      "  Using cached grpcio_status-1.73.1-py3-none-any.whl.metadata (1.1 kB)\n",
      "  Using cached grpcio_status-1.73.0-py3-none-any.whl.metadata (1.1 kB)\n",
      "  Using cached grpcio_status-1.72.2-py3-none-any.whl.metadata (1.1 kB)\n",
      "  Using cached grpcio_status-1.72.1-py3-none-any.whl.metadata (1.1 kB)\n",
      "  Using cached grpcio_status-1.71.2-py3-none-any.whl.metadata (1.1 kB)\n",
      "Using cached instaloader-4.14.2-py3-none-any.whl (67 kB)\n",
      "Using cached google_generativeai-0.8.5-py3-none-any.whl (155 kB)\n",
      "Using cached google_ai_generativelanguage-0.6.15-py3-none-any.whl (1.3 MB)\n",
      "Using cached google_api_core-2.25.1-py3-none-any.whl (160 kB)\n",
      "Using cached google_auth-2.40.3-py2.py3-none-any.whl (216 kB)\n",
      "Using cached protobuf-5.29.5-cp310-abi3-win_amd64.whl (434 kB)\n",
      "Using cached google_api_python_client-2.178.0-py3-none-any.whl (13.8 MB)\n",
      "Using cached pydantic-2.11.7-py3-none-any.whl (444 kB)\n",
      "Using cached annotated_types-0.7.0-py3-none-any.whl (13 kB)\n",
      "Using cached cachetools-5.5.2-py3-none-any.whl (10 kB)\n",
      "Using cached google_auth_httplib2-0.2.0-py2.py3-none-any.whl (9.3 kB)\n",
      "Using cached googleapis_common_protos-1.70.0-py3-none-any.whl (294 kB)\n",
      "Using cached httplib2-0.22.0-py3-none-any.whl (96 kB)\n",
      "Using cached proto_plus-1.26.1-py3-none-any.whl (50 kB)\n",
      "Using cached pyasn1_modules-0.4.2-py3-none-any.whl (181 kB)\n",
      "Using cached grpcio-1.74.0-cp312-cp312-win_amd64.whl (4.5 MB)\n",
      "Using cached grpcio_status-1.71.2-py3-none-any.whl (14 kB)\n",
      "Installing collected packages: pyasn1-modules, protobuf, httplib2, grpcio, cachetools, annotated-types, pydantic, proto-plus, instaloader, googleapis-common-protos, google-auth, grpcio-status, google-auth-httplib2, google-api-core, google-api-python-client, google-ai-generativelanguage, google-generativeai\n",
      "  Attempting uninstall: protobuf\n",
      "    Found existing installation: protobuf 6.31.1\n",
      "    Uninstalling protobuf-6.31.1:\n",
      "      Successfully uninstalled protobuf-6.31.1\n",
      "Note: you may need to restart the kernel to use updated packages.\n"
     ]
    },
    {
     "name": "stderr",
     "output_type": "stream",
     "text": [
      "  WARNING: Failed to write executable - trying to use .deleteme logic\n",
      "ERROR: Could not install packages due to an OSError: [WinError 2] The system cannot find the file specified: 'c:\\\\Python312\\\\Scripts\\\\instaloader.exe' -> 'c:\\\\Python312\\\\Scripts\\\\instaloader.exe.deleteme'\n",
      "\n",
      "\n",
      "[notice] A new release of pip is available: 24.0 -> 25.2\n",
      "[notice] To update, run: python.exe -m pip install --upgrade pip\n"
     ]
    }
   ],
   "source": [
    "pip install instaloader python-dotenv"
   ]
  },
  {
   "cell_type": "code",
   "execution_count": 7,
   "id": "44b0a1eb",
   "metadata": {},
   "outputs": [
    {
     "name": "stdout",
     "output_type": "stream",
     "text": [
      "Collecting google-generativeai\n",
      "  Using cached google_generativeai-0.8.5-py3-none-any.whl.metadata (3.9 kB)\n",
      "Collecting google-ai-generativelanguage==0.6.15 (from google-generativeai)\n",
      "  Using cached google_ai_generativelanguage-0.6.15-py3-none-any.whl.metadata (5.7 kB)\n",
      "Collecting google-api-core (from google-generativeai)\n",
      "  Using cached google_api_core-2.25.1-py3-none-any.whl.metadata (3.0 kB)\n",
      "Collecting google-api-python-client (from google-generativeai)\n",
      "  Using cached google_api_python_client-2.178.0-py3-none-any.whl.metadata (7.0 kB)\n",
      "Collecting google-auth>=2.15.0 (from google-generativeai)\n",
      "  Using cached google_auth-2.40.3-py2.py3-none-any.whl.metadata (6.2 kB)\n",
      "Requirement already satisfied: protobuf in c:\\python312\\lib\\site-packages (from google-generativeai) (5.29.5)\n",
      "Requirement already satisfied: pydantic in c:\\python312\\lib\\site-packages (from google-generativeai) (2.11.7)\n",
      "Requirement already satisfied: tqdm in c:\\python312\\lib\\site-packages (from google-generativeai) (4.66.5)\n",
      "Requirement already satisfied: typing-extensions in c:\\python312\\lib\\site-packages (from google-generativeai) (4.14.1)\n",
      "Requirement already satisfied: proto-plus<2.0.0dev,>=1.22.3 in c:\\python312\\lib\\site-packages (from google-ai-generativelanguage==0.6.15->google-generativeai) (1.26.1)\n",
      "Collecting googleapis-common-protos<2.0.0,>=1.56.2 (from google-api-core->google-generativeai)\n",
      "  Using cached googleapis_common_protos-1.70.0-py3-none-any.whl.metadata (9.3 kB)\n",
      "Requirement already satisfied: requests<3.0.0,>=2.18.0 in c:\\python312\\lib\\site-packages (from google-api-core->google-generativeai) (2.31.0)\n",
      "Requirement already satisfied: cachetools<6.0,>=2.0.0 in c:\\python312\\lib\\site-packages (from google-auth>=2.15.0->google-generativeai) (5.5.2)\n",
      "Requirement already satisfied: pyasn1-modules>=0.2.1 in c:\\python312\\lib\\site-packages (from google-auth>=2.15.0->google-generativeai) (0.4.2)\n",
      "Requirement already satisfied: rsa<5,>=3.1.4 in c:\\python312\\lib\\site-packages (from google-auth>=2.15.0->google-generativeai) (4.9.1)\n",
      "Requirement already satisfied: httplib2<1.0.0,>=0.19.0 in c:\\python312\\lib\\site-packages (from google-api-python-client->google-generativeai) (0.22.0)\n",
      "Collecting google-auth-httplib2<1.0.0,>=0.2.0 (from google-api-python-client->google-generativeai)\n",
      "  Using cached google_auth_httplib2-0.2.0-py2.py3-none-any.whl.metadata (2.2 kB)\n",
      "Requirement already satisfied: uritemplate<5,>=3.0.1 in c:\\python312\\lib\\site-packages (from google-api-python-client->google-generativeai) (4.2.0)\n",
      "Requirement already satisfied: annotated-types>=0.6.0 in c:\\python312\\lib\\site-packages (from pydantic->google-generativeai) (0.7.0)\n",
      "Requirement already satisfied: pydantic-core==2.33.2 in c:\\python312\\lib\\site-packages (from pydantic->google-generativeai) (2.33.2)\n",
      "Requirement already satisfied: typing-inspection>=0.4.0 in c:\\python312\\lib\\site-packages (from pydantic->google-generativeai) (0.4.1)\n",
      "Requirement already satisfied: colorama in c:\\users\\fugah\\appdata\\roaming\\python\\python312\\site-packages (from tqdm->google-generativeai) (0.4.6)\n",
      "Requirement already satisfied: grpcio<2.0.0,>=1.33.2 in c:\\python312\\lib\\site-packages (from google-api-core[grpc]!=2.0.*,!=2.1.*,!=2.10.*,!=2.2.*,!=2.3.*,!=2.4.*,!=2.5.*,!=2.6.*,!=2.7.*,!=2.8.*,!=2.9.*,<3.0.0dev,>=1.34.1->google-ai-generativelanguage==0.6.15->google-generativeai) (1.74.0)\n",
      "Collecting grpcio-status<2.0.0,>=1.33.2 (from google-api-core[grpc]!=2.0.*,!=2.1.*,!=2.10.*,!=2.2.*,!=2.3.*,!=2.4.*,!=2.5.*,!=2.6.*,!=2.7.*,!=2.8.*,!=2.9.*,<3.0.0dev,>=1.34.1->google-ai-generativelanguage==0.6.15->google-generativeai)\n",
      "  Using cached grpcio_status-1.74.0-py3-none-any.whl.metadata (1.1 kB)\n",
      "Requirement already satisfied: pyparsing!=3.0.0,!=3.0.1,!=3.0.2,!=3.0.3,<4,>=2.4.2 in c:\\python312\\lib\\site-packages (from httplib2<1.0.0,>=0.19.0->google-api-python-client->google-generativeai) (3.2.3)\n",
      "Requirement already satisfied: pyasn1<0.7.0,>=0.6.1 in c:\\python312\\lib\\site-packages (from pyasn1-modules>=0.2.1->google-auth>=2.15.0->google-generativeai) (0.6.1)\n",
      "Requirement already satisfied: charset-normalizer<4,>=2 in c:\\python312\\lib\\site-packages (from requests<3.0.0,>=2.18.0->google-api-core->google-generativeai) (3.3.2)\n",
      "Requirement already satisfied: idna<4,>=2.5 in c:\\python312\\lib\\site-packages (from requests<3.0.0,>=2.18.0->google-api-core->google-generativeai) (3.7)\n",
      "Requirement already satisfied: urllib3<3,>=1.21.1 in c:\\python312\\lib\\site-packages (from requests<3.0.0,>=2.18.0->google-api-core->google-generativeai) (2.5.0)\n",
      "Requirement already satisfied: certifi>=2017.4.17 in c:\\python312\\lib\\site-packages (from requests<3.0.0,>=2.18.0->google-api-core->google-generativeai) (2025.7.14)\n",
      "INFO: pip is looking at multiple versions of grpcio-status to determine which version is compatible with other requirements. This could take a while.\n",
      "  Using cached grpcio_status-1.73.1-py3-none-any.whl.metadata (1.1 kB)\n",
      "  Using cached grpcio_status-1.73.0-py3-none-any.whl.metadata (1.1 kB)\n",
      "  Using cached grpcio_status-1.72.2-py3-none-any.whl.metadata (1.1 kB)\n",
      "  Using cached grpcio_status-1.72.1-py3-none-any.whl.metadata (1.1 kB)\n",
      "  Using cached grpcio_status-1.71.2-py3-none-any.whl.metadata (1.1 kB)\n",
      "Using cached google_generativeai-0.8.5-py3-none-any.whl (155 kB)\n",
      "Using cached google_ai_generativelanguage-0.6.15-py3-none-any.whl (1.3 MB)\n",
      "Using cached google_api_core-2.25.1-py3-none-any.whl (160 kB)\n",
      "Using cached google_auth-2.40.3-py2.py3-none-any.whl (216 kB)\n",
      "Using cached google_api_python_client-2.178.0-py3-none-any.whl (13.8 MB)\n",
      "Using cached google_auth_httplib2-0.2.0-py2.py3-none-any.whl (9.3 kB)\n",
      "Using cached googleapis_common_protos-1.70.0-py3-none-any.whl (294 kB)\n",
      "Using cached grpcio_status-1.71.2-py3-none-any.whl (14 kB)\n",
      "Installing collected packages: googleapis-common-protos, grpcio-status, google-auth, google-auth-httplib2, google-api-core, google-api-python-client, google-ai-generativelanguage, google-generativeai\n",
      "Successfully installed google-ai-generativelanguage-0.6.15 google-api-core-2.25.1 google-api-python-client-2.178.0 google-auth-2.40.3 google-auth-httplib2-0.2.0 google-generativeai-0.8.5 googleapis-common-protos-1.70.0 grpcio-status-1.71.2\n",
      "Note: you may need to restart the kernel to use updated packages.\n"
     ]
    },
    {
     "name": "stderr",
     "output_type": "stream",
     "text": [
      "\n",
      "[notice] A new release of pip is available: 24.0 -> 25.2\n",
      "[notice] To update, run: python.exe -m pip install --upgrade pip\n"
     ]
    }
   ],
   "source": [
    "pip install google-generativeai"
   ]
  },
  {
   "cell_type": "code",
   "execution_count": null,
   "id": "c0436da7",
   "metadata": {},
   "outputs": [
    {
     "name": "stdout",
     "output_type": "stream",
     "text": [
      "[+] Fetching last 15 posts for rj.mahvash...\n"
     ]
    },
    {
     "name": "stderr",
     "output_type": "stream",
     "text": [
      "JSON Query to graphql/query: 403 Forbidden when accessing https://www.instagram.com/graphql/query [retrying; skip with ^C]\n"
     ]
    },
    {
     "name": "stdout",
     "output_type": "stream",
     "text": [
      "rj.mahvash_media\\DJy1AJ7SyL1.jpg "
     ]
    },
    {
     "name": "stderr",
     "output_type": "stream",
     "text": [
      "JSON Query to graphql/query: 403 Forbidden when accessing https://www.instagram.com/graphql/query [retrying; skip with ^C]\n"
     ]
    },
    {
     "name": "stdout",
     "output_type": "stream",
     "text": [
      "rj.mahvash_media\\C2CiPZnJzzY.jpg "
     ]
    },
    {
     "name": "stderr",
     "output_type": "stream",
     "text": [
      "JSON Query to graphql/query: 403 Forbidden when accessing https://www.instagram.com/graphql/query [retrying; skip with ^C]\n"
     ]
    },
    {
     "name": "stdout",
     "output_type": "stream",
     "text": [
      "rj.mahvash_media\\CuJ6H0mp-tM.jpg "
     ]
    },
    {
     "name": "stderr",
     "output_type": "stream",
     "text": [
      "JSON Query to graphql/query: 403 Forbidden when accessing https://www.instagram.com/graphql/query [retrying; skip with ^C]\n"
     ]
    },
    {
     "name": "stdout",
     "output_type": "stream",
     "text": [
      "rj.mahvash_media\\DNA98kASeiV.jpg "
     ]
    },
    {
     "name": "stderr",
     "output_type": "stream",
     "text": [
      "JSON Query to graphql/query: 403 Forbidden when accessing https://www.instagram.com/graphql/query [retrying; skip with ^C]\n"
     ]
    },
    {
     "name": "stdout",
     "output_type": "stream",
     "text": [
      "rj.mahvash_media\\DM-dtEOyY5L.jpg "
     ]
    },
    {
     "name": "stderr",
     "output_type": "stream",
     "text": [
      "JSON Query to graphql/query: 403 Forbidden when accessing https://www.instagram.com/graphql/query [retrying; skip with ^C]\n"
     ]
    },
    {
     "name": "stdout",
     "output_type": "stream",
     "text": [
      "rj.mahvash_media\\DM5YTByyEe5.jpg "
     ]
    },
    {
     "name": "stderr",
     "output_type": "stream",
     "text": [
      "JSON Query to graphql/query: 403 Forbidden when accessing https://www.instagram.com/graphql/query [retrying; skip with ^C]\n"
     ]
    },
    {
     "name": "stdout",
     "output_type": "stream",
     "text": [
      "rj.mahvash_media\\DM0Nq6dyS6m.jpg "
     ]
    },
    {
     "name": "stderr",
     "output_type": "stream",
     "text": [
      "JSON Query to graphql/query: 403 Forbidden when accessing https://www.instagram.com/graphql/query [retrying; skip with ^C]\n"
     ]
    },
    {
     "name": "stdout",
     "output_type": "stream",
     "text": [
      "rj.mahvash_media\\DMrtaIfyYhj.jpg "
     ]
    },
    {
     "name": "stderr",
     "output_type": "stream",
     "text": [
      "JSON Query to graphql/query: 403 Forbidden when accessing https://www.instagram.com/graphql/query [retrying; skip with ^C]\n"
     ]
    },
    {
     "name": "stdout",
     "output_type": "stream",
     "text": [
      "rj.mahvash_media\\DMaTjeYSeFE.jpg "
     ]
    },
    {
     "name": "stderr",
     "output_type": "stream",
     "text": [
      "JSON Query to graphql/query: 403 Forbidden when accessing https://www.instagram.com/graphql/query [retrying; skip with ^C]\n"
     ]
    },
    {
     "name": "stdout",
     "output_type": "stream",
     "text": [
      "rj.mahvash_media\\DMNTlWJtUDa.jpg "
     ]
    },
    {
     "name": "stderr",
     "output_type": "stream",
     "text": [
      "JSON Query to graphql/query: 403 Forbidden when accessing https://www.instagram.com/graphql/query [retrying; skip with ^C]\n"
     ]
    },
    {
     "name": "stdout",
     "output_type": "stream",
     "text": [
      "rj.mahvash_media\\DMDM1wZttg7.jpg "
     ]
    },
    {
     "name": "stderr",
     "output_type": "stream",
     "text": [
      "JSON Query to graphql/query: 403 Forbidden when accessing https://www.instagram.com/graphql/query [retrying; skip with ^C]\n"
     ]
    },
    {
     "name": "stdout",
     "output_type": "stream",
     "text": [
      "rj.mahvash_media\\DL979-bStlY.jpg "
     ]
    },
    {
     "name": "stderr",
     "output_type": "stream",
     "text": [
      "JSON Query to graphql/query: 403 Forbidden when accessing https://www.instagram.com/graphql/query [retrying; skip with ^C]\n",
      "JSON Query to graphql/query: 403 Forbidden when accessing https://www.instagram.com/graphql/query [retrying; skip with ^C]\n"
     ]
    },
    {
     "name": "stdout",
     "output_type": "stream",
     "text": [
      "rj.mahvash_media\\DL2Euf3N8Dm.jpg "
     ]
    },
    {
     "name": "stderr",
     "output_type": "stream",
     "text": [
      "JSON Query to graphql/query: 403 Forbidden when accessing https://www.instagram.com/graphql/query [retrying; skip with ^C]\n"
     ]
    },
    {
     "name": "stdout",
     "output_type": "stream",
     "text": [
      "rj.mahvash_media\\DLxELeNNKhj.jpg "
     ]
    },
    {
     "name": "stderr",
     "output_type": "stream",
     "text": [
      "JSON Query to graphql/query: 403 Forbidden when accessing https://www.instagram.com/graphql/query [retrying; skip with ^C]\n"
     ]
    },
    {
     "name": "stdout",
     "output_type": "stream",
     "text": [
      "rj.mahvash_media\\DLpf5VLMUjH.jpg "
     ]
    },
    {
     "name": "stderr",
     "output_type": "stream",
     "text": [
      "JSON Query to graphql/query: 403 Forbidden when accessing https://www.instagram.com/graphql/query [retrying; skip with ^C]\n"
     ]
    },
    {
     "name": "stdout",
     "output_type": "stream",
     "text": [
      "[+] Collected 15 posts.\n",
      "[+] Data saved to rj.mahvash_instagram_data.json\n",
      "[+] Sending data & images to Gemini for analysis...\n",
      "\n",
      "[+] Gemini Report:\n",
      "\n",
      "## Instagram Data Analysis Report for @rjmahvash (2025)\n",
      "\n",
      "This report analyzes Instagram posts from @rjmahvash, focusing on location, landmarks, purchases, lifestyle, and potential financial status.  Analysis is limited to the provided data and images.\n",
      "\n",
      "**1. Table of Locations Visited (with Frequency):**\n",
      "\n",
      "| Location        | Frequency | Evidence                                                              |\n",
      "|-----------------|------------|-------------------------------------------------------------------------|\n",
      "| India           | Multiple   | Multiple posts mentioning India, Bollywood, and filming locations.       |\n",
      "| Dubai, UAE      | 1          | Image shows Dubai Mall, Souk Al Bahar.                                |\n",
      "| UK (Unspecified)| 2          | Images suggest locations in the UK (based on architectural styles). |\n",
      "| Film Sets       | Multiple   | Numerous posts showcasing film sets and behind-the-scenes moments.     |\n",
      "\n",
      "\n",
      "**2. Landmarks or Locations Detected from Images:**\n",
      "\n",
      "* **Dubai Mall, Souk Al Bahar:** Clearly visible in one image.\n",
      "* **UK Architecture:** Several images show buildings characteristic of British architecture, indicating locations within the UK. One shows the Houses of Parliament and Big Ben in London. The other image's architecture suggests another UK city.  Precise locations cannot be determined without additional information.\n",
      "\n",
      "**3. List of Purchases Mentioned or Implied:**\n",
      "\n",
      "* **Pintola High Protein Muesli (Dark Chocolate & Fruit & Nut):** Explicitly mentioned and shown in images.\n",
      "* **Pintola High Protein Oats Chocolate:** Explicitly mentioned.\n",
      "* **Clothing Items:** Implied through images and mentions of brands like @truffle_india. Specific items are not detailed.\n",
      "\n",
      "**4. Lifestyle Summary:**\n",
      "\n",
      "* **Travel Habits:**  The user travels both domestically within India and internationally (Dubai and the UK).  Several pictures show her solo travelling or at least posting alone.\n",
      "* **Dining:** The user seems to consume healthy options, such as high-protein muesli and oats.\n",
      "* **Brands:** @truffle_india (clothing), @pintola.in (food).  She is also associated with Amazon MX Player and MX Player.\n",
      "\n",
      "**5. Possible Financial Status Assessment:**\n",
      "\n",
      "The user's Instagram suggests a high to upper-middle-class financial status:\n",
      "\n",
      "* **Film Producer/Actor:**  The posts reveal that she is a film producer, actor, and content creator, implying a professional career with potential for substantial income.\n",
      "* **International Travel:**  International travel indicates significant disposable income.\n",
      "* **Brand Collaborations/Endorsements:** The mentions of brands like Pintola and Truffle India likely suggest paid sponsorships or collaborations, further contributing to her income.\n",
      "* **Award Ceremony:**  The photo from an award ceremony in Dubai hints at career success and potential high-profile connections.\n",
      "* **Ownership in a Cricket Team:** Owning a stake in a cricket team suggests significant financial investment.\n",
      "\n",
      "**Overall:**\n",
      "\n",
      "Based on the provided data, @rjmahvash projects an image of a successful and financially comfortable young woman with a career spanning the film industry, content creation, and entrepreneurship.  Her lifestyle is a blend of professional endeavors, travel, and healthy living.  The available evidence strongly suggests a high level of disposable income.  However, this assessment is based solely on publicly available Instagram information and may not fully represent her actual financial situation.\n",
      "\n"
     ]
    }
   ],
   "source": [
    "import instaloader\n",
    "import json\n",
    "import re\n",
    "from dotenv import load_dotenv\n",
    "import os\n",
    "import google.generativeai as genai\n",
    "from glob import glob\n",
    "\n",
    "# ================== CONFIG ==================\n",
    "USERNAME = \"tapash.bs\"  # Change to desired Instagram handle\n",
    "NUM_POSTS = 15  # Number of recent posts to fetch\n",
    "MEDIA_DIR = f\"{USERNAME}_media\"\n",
    "JSON_FILE = f\"{USERNAME}_instagram_data.json\"\n",
    "\n",
    "# Load environment variables\n",
    "load_dotenv(\"key.env\")\n",
    "SESSION_ID = os.getenv(\"INSTAGRAM_SESSIONID\")\n",
    "GEMINI_API_KEY = os.getenv(\"GEMINI_API_KEY\")\n",
    "\n",
    "if not SESSION_ID or not GEMINI_API_KEY:\n",
    "    raise ValueError(\"Missing INSTAGRAM_SESSIONID or GEMINI_API_KEY in key.env file!\")\n",
    "\n",
    "# ================== FUNCTIONS ==================\n",
    "def extract_locations_from_text(text):\n",
    "    \"\"\"Extracts possible location names from captions.\"\"\"\n",
    "    if not text:\n",
    "        return []\n",
    "    possible_places = re.findall(\n",
    "        r'\\b(?:at|in|visited|to)\\s+([A-Z][a-zA-Z]+(?:\\s[A-Z][a-zA-Z]+)*)',\n",
    "        text\n",
    "    )\n",
    "    return list(set(possible_places))\n",
    "\n",
    "# ================== INSTALOADER SETUP ==================\n",
    "print(f\"[+] Fetching last {NUM_POSTS} posts for {USERNAME}...\")\n",
    "\n",
    "L = instaloader.Instaloader(\n",
    "    download_videos=False,\n",
    "    download_comments=False,\n",
    "    save_metadata=False\n",
    ")\n",
    "L.context._session.cookies.set(\"sessionid\", SESSION_ID)\n",
    "\n",
    "profile = instaloader.Profile.from_username(L.context, USERNAME)\n",
    "os.makedirs(MEDIA_DIR, exist_ok=True)\n",
    "\n",
    "# ================== SCRAPING LOOP ==================\n",
    "data = []\n",
    "for i, post in enumerate(profile.get_posts()):\n",
    "    if i >= NUM_POSTS:\n",
    "        break\n",
    "\n",
    "    caption = post.caption or \"\"\n",
    "    detected_locations = extract_locations_from_text(caption)\n",
    "\n",
    "    # Download image\n",
    "    L.download_pic(\n",
    "        os.path.join(MEDIA_DIR, post.shortcode),\n",
    "        post.url,\n",
    "        post.date_utc\n",
    "    )\n",
    "\n",
    "    # Detect actual saved file (handles .jpg/.png/.webp)\n",
    "    matching_files = glob(os.path.join(MEDIA_DIR, f\"{post.shortcode}.*\"))\n",
    "    if matching_files:\n",
    "        media_path = matching_files[0]\n",
    "    else:\n",
    "        media_path = None\n",
    "\n",
    "    post_data = {\n",
    "        \"date\": post.date_utc.strftime(\"%Y-%m-%d %H:%M:%S\"),\n",
    "        \"caption\": caption,\n",
    "        \"hashtags\": post.caption_hashtags,\n",
    "        \"likes\": post.likes,\n",
    "        \"comments\": post.comments,\n",
    "        \"location\": post.location.name if post.location else None,\n",
    "        \"extra_detected_locations\": detected_locations,\n",
    "        \"url\": f\"https://www.instagram.com/p/{post.shortcode}/\",\n",
    "        \"image_path\": media_path\n",
    "    }\n",
    "    data.append(post_data)\n",
    "\n",
    "print(f\"[+] Collected {len(data)} posts.\")\n",
    "\n",
    "# Save JSON\n",
    "with open(JSON_FILE, \"w\", encoding=\"utf-8\") as f:\n",
    "    json.dump(data, f, indent=4, ensure_ascii=False)\n",
    "print(f\"[+] Data saved to {JSON_FILE}\")\n",
    "\n",
    "# ================== GEMINI ANALYSIS ==================\n",
    "print(\"[+] Sending data & images to Gemini for analysis...\")\n",
    "\n",
    "genai.configure(api_key=GEMINI_API_KEY)\n",
    "model = genai.GenerativeModel(\"gemini-1.5-flash\")\n",
    "\n",
    "# Prepare multimodal input (text + images)\n",
    "prompt_text = (\n",
    "    \"Analyze this Instagram data and images to create a detailed structured report with:\\n\"\n",
    "    \"1. Table of locations visited (with frequency)\\n\"\n",
    "    \"2. Landmarks or locations detected from images\\n\"\n",
    "    \"3. List of purchases mentioned or implied\\n\"\n",
    "    \"4. Lifestyle summary (travel habits, dining, brands)\\n\"\n",
    "    \"5. Possible financial status assessment\\n\"\n",
    "    \"Consider both text and visual clues.\\n\\n\"\n",
    ")\n",
    "\n",
    "contents = [prompt_text]\n",
    "\n",
    "for post in data:\n",
    "    text_part = (\n",
    "        f\"Date: {post['date']}\\n\"\n",
    "        f\"URL: {post['url']}\\n\"\n",
    "    )\n",
    "    if post['location']:\n",
    "        text_part += f\"Location (from IG): {post['location']}\\n\"\n",
    "    if post['extra_detected_locations']:\n",
    "        text_part += f\"Possible Locations (from text): {', '.join(post['extra_detected_locations'])}\\n\"\n",
    "    text_part += f\"Caption: {post['caption']}\\n\"\n",
    "    if post['hashtags']:\n",
    "        text_part += f\"Hashtags: {', '.join(post['hashtags'])}\\n\"\n",
    "    text_part += \"---\\n\"\n",
    "\n",
    "    contents.append(text_part)\n",
    "\n",
    "    # Attach image if exists\n",
    "    if post[\"image_path\"] and os.path.exists(post[\"image_path\"]):\n",
    "        with open(post[\"image_path\"], \"rb\") as img_file:\n",
    "            contents.append({\n",
    "                \"mime_type\": \"image/jpeg\",  # Gemini accepts even if original is webp/png\n",
    "                \"data\": img_file.read()\n",
    "            })\n",
    "\n",
    "# Send one batch request to Gemini\n",
    "response = model.generate_content(contents)\n",
    "\n",
    "print(\"\\n[+] Gemini Report:\\n\")\n",
    "print(response.text)"
   ]
  }
 ],
 "metadata": {
  "kernelspec": {
   "display_name": "Python 3",
   "language": "python",
   "name": "python3"
  },
  "language_info": {
   "codemirror_mode": {
    "name": "ipython",
    "version": 3
   },
   "file_extension": ".py",
   "mimetype": "text/x-python",
   "name": "python",
   "nbconvert_exporter": "python",
   "pygments_lexer": "ipython3",
   "version": "3.12.2"
  }
 },
 "nbformat": 4,
 "nbformat_minor": 5
}
